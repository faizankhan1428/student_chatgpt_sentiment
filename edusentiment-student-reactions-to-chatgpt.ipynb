{
 "cells": [
  {
   "cell_type": "markdown",
   "id": "849d3e11",
   "metadata": {
    "_cell_guid": "b1076dfc-b9ad-4769-8c92-a6c4dae69d19",
    "_uuid": "8f2839f25d086af736a60e9eeb907d3b93b6e0e5",
    "papermill": {
     "duration": 0.003514,
     "end_time": "2025-07-16T15:41:33.518686",
     "exception": false,
     "start_time": "2025-07-16T15:41:33.515172",
     "status": "completed"
    },
    "tags": []
   },
   "source": [
    "<div style=\"background-color: #e6f7ff; padding: 15px; border-radius: 10px;\">\n",
    "  <h2> Sentiment Analysis on Student Discussions About ChatGPT – Reddit Dataset</h2>\n",
    "  <p>\n",
    "    In this notebook, we analyze the sentiment of Reddit comments from students discussing ChatGPT. \n",
    "    This analysis helps us understand how students feel about using ChatGPT for academic tasks like \n",
    "    homework, exams, assignments, and studying.\n",
    "  </p>\n",
    "  <p>\n",
    "    We’ll use <code>VADER</code> (Valence Aware Dictionary and sEntiment Reasoner) to classify sentiment into:\n",
    "  </p>\n",
    "  <ul>\n",
    "    <li>Positive</li>\n",
    "    <li>Neutral</li>\n",
    "    <li>Negative</li>\n",
    "  </ul>\n",
    "</div>\n"
   ]
  },
  {
   "cell_type": "markdown",
   "id": "9d80c85e",
   "metadata": {
    "papermill": {
     "duration": 0.002676,
     "end_time": "2025-07-16T15:41:33.524631",
     "exception": false,
     "start_time": "2025-07-16T15:41:33.521955",
     "status": "completed"
    },
    "tags": []
   },
   "source": [
    "## Import Libraries"
   ]
  },
  {
   "cell_type": "code",
   "execution_count": 1,
   "id": "6c589e45",
   "metadata": {
    "execution": {
     "iopub.execute_input": "2025-07-16T15:41:33.532387Z",
     "iopub.status.busy": "2025-07-16T15:41:33.532050Z",
     "iopub.status.idle": "2025-07-16T15:41:38.724849Z",
     "shell.execute_reply": "2025-07-16T15:41:38.723232Z"
    },
    "papermill": {
     "duration": 5.19967,
     "end_time": "2025-07-16T15:41:38.727064",
     "exception": false,
     "start_time": "2025-07-16T15:41:33.527394",
     "status": "completed"
    },
    "tags": []
   },
   "outputs": [],
   "source": [
    "import pandas as pd\n",
    "import matplotlib.pyplot as plt\n",
    "import seaborn as sns\n",
    "from nltk.sentiment.vader import SentimentIntensityAnalyzer\n",
    "import nltk\n",
    "\n",
    "# Only download if not already present\n",
    "try:\n",
    "    _ = SentimentIntensityAnalyzer()\n",
    "except:\n",
    "    import contextlib\n",
    "    import os\n",
    "    with open(os.devnull, 'w') as fnull:\n",
    "        with contextlib.redirect_stdout(fnull), contextlib.redirect_stderr(fnull):\n",
    "            nltk.download('vader_lexicon')"
   ]
  },
  {
   "cell_type": "markdown",
   "id": "25b99af3",
   "metadata": {
    "papermill": {
     "duration": 0.002885,
     "end_time": "2025-07-16T15:41:38.733697",
     "exception": false,
     "start_time": "2025-07-16T15:41:38.730812",
     "status": "completed"
    },
    "tags": []
   },
   "source": [
    "## Load Dataset"
   ]
  },
  {
   "cell_type": "code",
   "execution_count": 2,
   "id": "2ffc64d8",
   "metadata": {
    "execution": {
     "iopub.execute_input": "2025-07-16T15:41:38.741305Z",
     "iopub.status.busy": "2025-07-16T15:41:38.740808Z",
     "iopub.status.idle": "2025-07-16T15:41:51.215183Z",
     "shell.execute_reply": "2025-07-16T15:41:51.213990Z"
    },
    "papermill": {
     "duration": 12.480669,
     "end_time": "2025-07-16T15:41:51.217526",
     "exception": false,
     "start_time": "2025-07-16T15:41:38.736857",
     "status": "completed"
    },
    "tags": []
   },
   "outputs": [
    {
     "data": {
      "text/html": [
       "<div>\n",
       "<style scoped>\n",
       "    .dataframe tbody tr th:only-of-type {\n",
       "        vertical-align: middle;\n",
       "    }\n",
       "\n",
       "    .dataframe tbody tr th {\n",
       "        vertical-align: top;\n",
       "    }\n",
       "\n",
       "    .dataframe thead th {\n",
       "        text-align: right;\n",
       "    }\n",
       "</style>\n",
       "<table border=\"1\" class=\"dataframe\">\n",
       "  <thead>\n",
       "    <tr style=\"text-align: right;\">\n",
       "      <th></th>\n",
       "      <th>subreddit</th>\n",
       "      <th>body</th>\n",
       "      <th>score</th>\n",
       "    </tr>\n",
       "  </thead>\n",
       "  <tbody>\n",
       "    <tr>\n",
       "      <th>0</th>\n",
       "      <td>gaming</td>\n",
       "      <td>it's pretty well known and it was a paid produ...</td>\n",
       "      <td>3.0</td>\n",
       "    </tr>\n",
       "    <tr>\n",
       "      <th>1</th>\n",
       "      <td>relationship_advice</td>\n",
       "      <td>i would actually just like to say that there a...</td>\n",
       "      <td>0.0</td>\n",
       "    </tr>\n",
       "    <tr>\n",
       "      <th>2</th>\n",
       "      <td>news</td>\n",
       "      <td>the character 令 does bear a meaning similar to...</td>\n",
       "      <td>8.0</td>\n",
       "    </tr>\n",
       "    <tr>\n",
       "      <th>3</th>\n",
       "      <td>SquaredCircle</td>\n",
       "      <td>wrong. young footballers to this day help arou...</td>\n",
       "      <td>25.0</td>\n",
       "    </tr>\n",
       "    <tr>\n",
       "      <th>4</th>\n",
       "      <td>news</td>\n",
       "      <td>thanks for the interesting response, this shed...</td>\n",
       "      <td>0.0</td>\n",
       "    </tr>\n",
       "  </tbody>\n",
       "</table>\n",
       "</div>"
      ],
      "text/plain": [
       "             subreddit                                               body  \\\n",
       "0               gaming  it's pretty well known and it was a paid produ...   \n",
       "1  relationship_advice  i would actually just like to say that there a...   \n",
       "2                 news  the character 令 does bear a meaning similar to...   \n",
       "3        SquaredCircle  wrong. young footballers to this day help arou...   \n",
       "4                 news  thanks for the interesting response, this shed...   \n",
       "\n",
       "  score  \n",
       "0   3.0  \n",
       "1   0.0  \n",
       "2   8.0  \n",
       "3  25.0  \n",
       "4   0.0  "
      ]
     },
     "execution_count": 2,
     "metadata": {},
     "output_type": "execute_result"
    }
   ],
   "source": [
    "import pandas as pd\n",
    "\n",
    "# Suppress DtypeWarning\n",
    "df = pd.read_csv(\n",
    "    '/kaggle/input/how-students-use-chatgpt-filtered-reddit-dataset/filtered_student_chatgpt_reddit.csv',\n",
    "    low_memory=False,  # fixes mixed-type warning\n",
    "    dtype=str           # force all columns as string to avoid mixed-type\n",
    ")\n",
    "\n",
    "# Drop unnecessary columns like 'Unnamed: 0'\n",
    "df = df.loc[:, ~df.columns.str.contains('^Unnamed')]\n",
    "\n",
    "# Optional: Show sample with selected useful columns\n",
    "df[['subreddit', 'body', 'score']].head()"
   ]
  },
  {
   "cell_type": "markdown",
   "id": "e4609ba3",
   "metadata": {
    "papermill": {
     "duration": 0.006085,
     "end_time": "2025-07-16T15:41:51.229613",
     "exception": false,
     "start_time": "2025-07-16T15:41:51.223528",
     "status": "completed"
    },
    "tags": []
   },
   "source": [
    "## Apply Sentiment Analysis (VADER)"
   ]
  },
  {
   "cell_type": "code",
   "execution_count": 3,
   "id": "8ea89cfe",
   "metadata": {
    "execution": {
     "iopub.execute_input": "2025-07-16T15:41:51.237392Z",
     "iopub.status.busy": "2025-07-16T15:41:51.236959Z",
     "iopub.status.idle": "2025-07-16T15:53:39.780518Z",
     "shell.execute_reply": "2025-07-16T15:53:39.779560Z"
    },
    "papermill": {
     "duration": 708.551792,
     "end_time": "2025-07-16T15:53:39.784714",
     "exception": false,
     "start_time": "2025-07-16T15:41:51.232922",
     "status": "completed"
    },
    "tags": []
   },
   "outputs": [
    {
     "data": {
      "text/html": [
       "<div>\n",
       "<style scoped>\n",
       "    .dataframe tbody tr th:only-of-type {\n",
       "        vertical-align: middle;\n",
       "    }\n",
       "\n",
       "    .dataframe tbody tr th {\n",
       "        vertical-align: top;\n",
       "    }\n",
       "\n",
       "    .dataframe thead th {\n",
       "        text-align: right;\n",
       "    }\n",
       "</style>\n",
       "<table border=\"1\" class=\"dataframe\">\n",
       "  <thead>\n",
       "    <tr style=\"text-align: right;\">\n",
       "      <th></th>\n",
       "      <th>body</th>\n",
       "      <th>sentiment_score</th>\n",
       "      <th>sentiment</th>\n",
       "    </tr>\n",
       "  </thead>\n",
       "  <tbody>\n",
       "    <tr>\n",
       "      <th>0</th>\n",
       "      <td>it's pretty well known and it was a paid produ...</td>\n",
       "      <td>0.8074</td>\n",
       "      <td>Positive</td>\n",
       "    </tr>\n",
       "    <tr>\n",
       "      <th>1</th>\n",
       "      <td>i would actually just like to say that there a...</td>\n",
       "      <td>-0.1280</td>\n",
       "      <td>Negative</td>\n",
       "    </tr>\n",
       "    <tr>\n",
       "      <th>2</th>\n",
       "      <td>the character 令 does bear a meaning similar to...</td>\n",
       "      <td>0.2510</td>\n",
       "      <td>Positive</td>\n",
       "    </tr>\n",
       "    <tr>\n",
       "      <th>3</th>\n",
       "      <td>wrong. young footballers to this day help arou...</td>\n",
       "      <td>-0.8059</td>\n",
       "      <td>Negative</td>\n",
       "    </tr>\n",
       "    <tr>\n",
       "      <th>4</th>\n",
       "      <td>thanks for the interesting response, this shed...</td>\n",
       "      <td>0.6778</td>\n",
       "      <td>Positive</td>\n",
       "    </tr>\n",
       "  </tbody>\n",
       "</table>\n",
       "</div>"
      ],
      "text/plain": [
       "                                                body  sentiment_score  \\\n",
       "0  it's pretty well known and it was a paid produ...           0.8074   \n",
       "1  i would actually just like to say that there a...          -0.1280   \n",
       "2  the character 令 does bear a meaning similar to...           0.2510   \n",
       "3  wrong. young footballers to this day help arou...          -0.8059   \n",
       "4  thanks for the interesting response, this shed...           0.6778   \n",
       "\n",
       "  sentiment  \n",
       "0  Positive  \n",
       "1  Negative  \n",
       "2  Positive  \n",
       "3  Negative  \n",
       "4  Positive  "
      ]
     },
     "execution_count": 3,
     "metadata": {},
     "output_type": "execute_result"
    }
   ],
   "source": [
    "# Initialize sentiment analyzer\n",
    "sia = SentimentIntensityAnalyzer()\n",
    "\n",
    "# Apply sentiment scoring\n",
    "df['sentiment_score'] = df['body'].astype(str).apply(lambda x: sia.polarity_scores(x)['compound'])\n",
    "\n",
    "# Classify as positive, neutral, or negative\n",
    "def classify_sentiment(score):\n",
    "    if score >= 0.05:\n",
    "        return 'Positive'\n",
    "    elif score <= -0.05:\n",
    "        return 'Negative'\n",
    "    else:\n",
    "        return 'Neutral'\n",
    "\n",
    "df['sentiment'] = df['sentiment_score'].apply(classify_sentiment)\n",
    "df[['body', 'sentiment_score', 'sentiment']].head()"
   ]
  },
  {
   "cell_type": "markdown",
   "id": "b4106803",
   "metadata": {
    "papermill": {
     "duration": 0.003204,
     "end_time": "2025-07-16T15:53:39.791627",
     "exception": false,
     "start_time": "2025-07-16T15:53:39.788423",
     "status": "completed"
    },
    "tags": []
   },
   "source": [
    "## Visualize Sentiment Distribution"
   ]
  },
  {
   "cell_type": "code",
   "execution_count": 4,
   "id": "39801518",
   "metadata": {
    "execution": {
     "iopub.execute_input": "2025-07-16T15:53:39.801467Z",
     "iopub.status.busy": "2025-07-16T15:53:39.801142Z",
     "iopub.status.idle": "2025-07-16T15:53:40.339333Z",
     "shell.execute_reply": "2025-07-16T15:53:40.338405Z"
    },
    "papermill": {
     "duration": 0.544803,
     "end_time": "2025-07-16T15:53:40.340886",
     "exception": false,
     "start_time": "2025-07-16T15:53:39.796083",
     "status": "completed"
    },
    "tags": []
   },
   "outputs": [
    {
     "data": {
      "image/png": "[encoded data removed]",
      "text/plain": [
       "<Figure size 700x500 with 1 Axes>"
      ]
     },
     "metadata": {},
     "output_type": "display_data"
    }
   ],
   "source": [
    "plt.figure(figsize=(7,5))\n",
    "sns.countplot(data=df, x='sentiment', palette='coolwarm')\n",
    "plt.title('Sentiment Distribution of Student Discussions About ChatGPT')\n",
    "plt.xlabel('Sentiment')\n",
    "plt.ylabel('Number of Comments')\n",
    "plt.show()"
   ]
  },
  {
   "cell_type": "markdown",
   "id": "b0edea4b",
   "metadata": {
    "papermill": {
     "duration": 0.003498,
     "end_time": "2025-07-16T15:53:40.348405",
     "exception": false,
     "start_time": "2025-07-16T15:53:40.344907",
     "status": "completed"
    },
    "tags": []
   },
   "source": [
    "## Top Positive and Negative Comments"
   ]
  },
  {
   "cell_type": "code",
   "execution_count": 5,
   "id": "04b9e5d1",
   "metadata": {
    "execution": {
     "iopub.execute_input": "2025-07-16T15:53:40.357016Z",
     "iopub.status.busy": "2025-07-16T15:53:40.356723Z",
     "iopub.status.idle": "2025-07-16T15:53:40.729301Z",
     "shell.execute_reply": "2025-07-16T15:53:40.728067Z"
    },
    "papermill": {
     "duration": 0.379388,
     "end_time": "2025-07-16T15:53:40.731590",
     "exception": false,
     "start_time": "2025-07-16T15:53:40.352202",
     "status": "completed"
    },
    "tags": []
   },
   "outputs": [
    {
     "name": "stdout",
     "output_type": "stream",
     "text": [
      "Top Positive Comments:\n"
     ]
    },
    {
     "data": {
      "text/html": [
       "<div>\n",
       "<style scoped>\n",
       "    .dataframe tbody tr th:only-of-type {\n",
       "        vertical-align: middle;\n",
       "    }\n",
       "\n",
       "    .dataframe tbody tr th {\n",
       "        vertical-align: top;\n",
       "    }\n",
       "\n",
       "    .dataframe thead th {\n",
       "        text-align: right;\n",
       "    }\n",
       "</style>\n",
       "<table border=\"1\" class=\"dataframe\">\n",
       "  <thead>\n",
       "    <tr style=\"text-align: right;\">\n",
       "      <th></th>\n",
       "      <th>subreddit</th>\n",
       "      <th>body</th>\n",
       "      <th>controversiality</th>\n",
       "      <th>score</th>\n",
       "      <th>comment_id</th>\n",
       "      <th>comment_parent_id</th>\n",
       "      <th>comment_body</th>\n",
       "      <th>Topic</th>\n",
       "      <th>Tag</th>\n",
       "      <th>sentiment_score</th>\n",
       "      <th>sentiment</th>\n",
       "    </tr>\n",
       "  </thead>\n",
       "  <tbody>\n",
       "    <tr>\n",
       "      <th>168838</th>\n",
       "      <td>NaN</td>\n",
       "      <td>can i answer all of them? i've got a mellow ni...</td>\n",
       "      <td>NaN</td>\n",
       "      <td>2.0</td>\n",
       "      <td>NaN</td>\n",
       "      <td>NaN</td>\n",
       "      <td>NaN</td>\n",
       "      <td>3.0</td>\n",
       "      <td>Teenage</td>\n",
       "      <td>0.9999</td>\n",
       "      <td>Positive</td>\n",
       "    </tr>\n",
       "    <tr>\n",
       "      <th>298363</th>\n",
       "      <td>NaN</td>\n",
       "      <td>last year, someone came to this sub with an ar...</td>\n",
       "      <td>NaN</td>\n",
       "      <td>1.0</td>\n",
       "      <td>NaN</td>\n",
       "      <td>NaN</td>\n",
       "      <td>NaN</td>\n",
       "      <td>2.0</td>\n",
       "      <td>Religion</td>\n",
       "      <td>0.9999</td>\n",
       "      <td>Positive</td>\n",
       "    </tr>\n",
       "    <tr>\n",
       "      <th>221367</th>\n",
       "      <td>NaN</td>\n",
       "      <td>reminds me of this post:\\n\\nouch.  sounds like...</td>\n",
       "      <td>NaN</td>\n",
       "      <td>2.0</td>\n",
       "      <td>NaN</td>\n",
       "      <td>NaN</td>\n",
       "      <td>NaN</td>\n",
       "      <td>3.0</td>\n",
       "      <td>Teenage</td>\n",
       "      <td>0.9999</td>\n",
       "      <td>Positive</td>\n",
       "    </tr>\n",
       "    <tr>\n",
       "      <th>211269</th>\n",
       "      <td>NaN</td>\n",
       "      <td>not links, per se, but there are some links an...</td>\n",
       "      <td>NaN</td>\n",
       "      <td>2.0</td>\n",
       "      <td>NaN</td>\n",
       "      <td>NaN</td>\n",
       "      <td>NaN</td>\n",
       "      <td>3.0</td>\n",
       "      <td>Teenage</td>\n",
       "      <td>0.9999</td>\n",
       "      <td>Positive</td>\n",
       "    </tr>\n",
       "    <tr>\n",
       "      <th>214033</th>\n",
       "      <td>NaN</td>\n",
       "      <td>hi there, welcome to the fun place :d\\n\\ni *us...</td>\n",
       "      <td>NaN</td>\n",
       "      <td>2.0</td>\n",
       "      <td>NaN</td>\n",
       "      <td>NaN</td>\n",
       "      <td>NaN</td>\n",
       "      <td>3.0</td>\n",
       "      <td>Teenage</td>\n",
       "      <td>0.9999</td>\n",
       "      <td>Positive</td>\n",
       "    </tr>\n",
       "  </tbody>\n",
       "</table>\n",
       "</div>"
      ],
      "text/plain": [
       "       subreddit                                               body  \\\n",
       "168838       NaN  can i answer all of them? i've got a mellow ni...   \n",
       "298363       NaN  last year, someone came to this sub with an ar...   \n",
       "221367       NaN  reminds me of this post:\\n\\nouch.  sounds like...   \n",
       "211269       NaN  not links, per se, but there are some links an...   \n",
       "214033       NaN  hi there, welcome to the fun place :d\\n\\ni *us...   \n",
       "\n",
       "       controversiality score comment_id comment_parent_id comment_body Topic  \\\n",
       "168838              NaN   2.0        NaN               NaN          NaN   3.0   \n",
       "298363              NaN   1.0        NaN               NaN          NaN   2.0   \n",
       "221367              NaN   2.0        NaN               NaN          NaN   3.0   \n",
       "211269              NaN   2.0        NaN               NaN          NaN   3.0   \n",
       "214033              NaN   2.0        NaN               NaN          NaN   3.0   \n",
       "\n",
       "             Tag  sentiment_score sentiment  \n",
       "168838   Teenage           0.9999  Positive  \n",
       "298363  Religion           0.9999  Positive  \n",
       "221367   Teenage           0.9999  Positive  \n",
       "211269   Teenage           0.9999  Positive  \n",
       "214033   Teenage           0.9999  Positive  "
      ]
     },
     "metadata": {},
     "output_type": "display_data"
    },
    {
     "name": "stdout",
     "output_type": "stream",
     "text": [
      "Top Negative Comments:\n"
     ]
    },
    {
     "data": {
      "text/html": [
       "<div>\n",
       "<style scoped>\n",
       "    .dataframe tbody tr th:only-of-type {\n",
       "        vertical-align: middle;\n",
       "    }\n",
       "\n",
       "    .dataframe tbody tr th {\n",
       "        vertical-align: top;\n",
       "    }\n",
       "\n",
       "    .dataframe thead th {\n",
       "        text-align: right;\n",
       "    }\n",
       "</style>\n",
       "<table border=\"1\" class=\"dataframe\">\n",
       "  <thead>\n",
       "    <tr style=\"text-align: right;\">\n",
       "      <th></th>\n",
       "      <th>subreddit</th>\n",
       "      <th>body</th>\n",
       "      <th>controversiality</th>\n",
       "      <th>score</th>\n",
       "      <th>comment_id</th>\n",
       "      <th>comment_parent_id</th>\n",
       "      <th>comment_body</th>\n",
       "      <th>Topic</th>\n",
       "      <th>Tag</th>\n",
       "      <th>sentiment_score</th>\n",
       "      <th>sentiment</th>\n",
       "    </tr>\n",
       "  </thead>\n",
       "  <tbody>\n",
       "    <tr>\n",
       "      <th>294078</th>\n",
       "      <td>NaN</td>\n",
       "      <td>**full list of deaths**\\n\\nmarch 1982: profess...</td>\n",
       "      <td>NaN</td>\n",
       "      <td>1.0</td>\n",
       "      <td>NaN</td>\n",
       "      <td>NaN</td>\n",
       "      <td>NaN</td>\n",
       "      <td>22.0</td>\n",
       "      <td>Nature</td>\n",
       "      <td>-0.9999</td>\n",
       "      <td>Negative</td>\n",
       "    </tr>\n",
       "    <tr>\n",
       "      <th>352541</th>\n",
       "      <td>NaN</td>\n",
       "      <td>**most popular comments**   \\n\\n---\\n|score|au...</td>\n",
       "      <td>NaN</td>\n",
       "      <td>1.0</td>\n",
       "      <td>NaN</td>\n",
       "      <td>NaN</td>\n",
       "      <td>NaN</td>\n",
       "      <td>29.0</td>\n",
       "      <td>Comments</td>\n",
       "      <td>-0.9999</td>\n",
       "      <td>Negative</td>\n",
       "    </tr>\n",
       "    <tr>\n",
       "      <th>368459</th>\n",
       "      <td>NaN</td>\n",
       "      <td>&amp;gt;&amp;gt; your article says queen elizabeth too...</td>\n",
       "      <td>NaN</td>\n",
       "      <td>1.0</td>\n",
       "      <td>NaN</td>\n",
       "      <td>NaN</td>\n",
       "      <td>NaN</td>\n",
       "      <td>30.0</td>\n",
       "      <td>Gender</td>\n",
       "      <td>-0.9999</td>\n",
       "      <td>Negative</td>\n",
       "    </tr>\n",
       "    <tr>\n",
       "      <th>430950</th>\n",
       "      <td>NaN</td>\n",
       "      <td>\"fuck the police\"\\n\\n[mc ren as court officer]...</td>\n",
       "      <td>NaN</td>\n",
       "      <td>-1.0</td>\n",
       "      <td>NaN</td>\n",
       "      <td>NaN</td>\n",
       "      <td>NaN</td>\n",
       "      <td>3.0</td>\n",
       "      <td>Teenage</td>\n",
       "      <td>-0.9999</td>\n",
       "      <td>Negative</td>\n",
       "    </tr>\n",
       "    <tr>\n",
       "      <th>302661</th>\n",
       "      <td>NaN</td>\n",
       "      <td>&amp;gt; i honestly don't beleive yiuve read the q...</td>\n",
       "      <td>NaN</td>\n",
       "      <td>1.0</td>\n",
       "      <td>NaN</td>\n",
       "      <td>NaN</td>\n",
       "      <td>NaN</td>\n",
       "      <td>9.0</td>\n",
       "      <td>Arg</td>\n",
       "      <td>-0.9999</td>\n",
       "      <td>Negative</td>\n",
       "    </tr>\n",
       "  </tbody>\n",
       "</table>\n",
       "</div>"
      ],
      "text/plain": [
       "       subreddit                                               body  \\\n",
       "294078       NaN  **full list of deaths**\\n\\nmarch 1982: profess...   \n",
       "352541       NaN  **most popular comments**   \\n\\n---\\n|score|au...   \n",
       "368459       NaN  &gt;&gt; your article says queen elizabeth too...   \n",
       "430950       NaN  \"fuck the police\"\\n\\n[mc ren as court officer]...   \n",
       "302661       NaN  &gt; i honestly don't beleive yiuve read the q...   \n",
       "\n",
       "       controversiality score comment_id comment_parent_id comment_body Topic  \\\n",
       "294078              NaN   1.0        NaN               NaN          NaN  22.0   \n",
       "352541              NaN   1.0        NaN               NaN          NaN  29.0   \n",
       "368459              NaN   1.0        NaN               NaN          NaN  30.0   \n",
       "430950              NaN  -1.0        NaN               NaN          NaN   3.0   \n",
       "302661              NaN   1.0        NaN               NaN          NaN   9.0   \n",
       "\n",
       "             Tag  sentiment_score sentiment  \n",
       "294078    Nature          -0.9999  Negative  \n",
       "352541  Comments          -0.9999  Negative  \n",
       "368459    Gender          -0.9999  Negative  \n",
       "430950   Teenage          -0.9999  Negative  \n",
       "302661       Arg          -0.9999  Negative  "
      ]
     },
     "metadata": {},
     "output_type": "display_data"
    }
   ],
   "source": [
    "print(\"Top Positive Comments:\")\n",
    "display(df[df['sentiment'] == 'Positive'].sort_values(by='sentiment_score', ascending=False).head(5))\n",
    "\n",
    "print(\"Top Negative Comments:\")\n",
    "display(df[df['sentiment'] == 'Negative'].sort_values(by='sentiment_score').head(5))"
   ]
  },
  {
   "cell_type": "markdown",
   "id": "e4ef9843",
   "metadata": {
    "papermill": {
     "duration": 0.004268,
     "end_time": "2025-07-16T15:53:40.741273",
     "exception": false,
     "start_time": "2025-07-16T15:53:40.737005",
     "status": "completed"
    },
    "tags": []
   },
   "source": [
    "## Subreddit-wise Sentiment"
   ]
  },
  {
   "cell_type": "code",
   "execution_count": 6,
   "id": "17c695c6",
   "metadata": {
    "execution": {
     "iopub.execute_input": "2025-07-16T15:53:40.752687Z",
     "iopub.status.busy": "2025-07-16T15:53:40.752390Z",
     "iopub.status.idle": "2025-07-16T15:53:42.197421Z",
     "shell.execute_reply": "2025-07-16T15:53:42.196288Z"
    },
    "papermill": {
     "duration": 1.454288,
     "end_time": "2025-07-16T15:53:42.199846",
     "exception": false,
     "start_time": "2025-07-16T15:53:40.745558",
     "status": "completed"
    },
    "tags": []
   },
   "outputs": [
    {
     "data": {
      "image/png": "[encoded data removed]",
      "text/plain": [
       "<Figure size 1000x600 with 1 Axes>"
      ]
     },
     "metadata": {},
     "output_type": "display_data"
    }
   ],
   "source": [
    "plt.figure(figsize=(10,6))\n",
    "sns.countplot(data=df, x='sentiment', hue='subreddit', order=['Positive', 'Neutral', 'Negative'])\n",
    "plt.title('Sentiment by Subreddit (Top Mentions)')\n",
    "plt.xticks(rotation=0)\n",
    "plt.show()"
   ]
  },
  {
   "cell_type": "markdown",
   "id": "31e353ce",
   "metadata": {
    "papermill": {
     "duration": 0.005517,
     "end_time": "2025-07-16T15:53:42.211740",
     "exception": false,
     "start_time": "2025-07-16T15:53:42.206223",
     "status": "completed"
    },
    "tags": []
   },
   "source": [
    "## Save Result"
   ]
  },
  {
   "cell_type": "code",
   "execution_count": 7,
   "id": "ab6bfefc",
   "metadata": {
    "execution": {
     "iopub.execute_input": "2025-07-16T15:53:42.224446Z",
     "iopub.status.busy": "2025-07-16T15:53:42.224064Z",
     "iopub.status.idle": "2025-07-16T15:53:57.667215Z",
     "shell.execute_reply": "2025-07-16T15:53:57.666336Z"
    },
    "papermill": {
     "duration": 15.452084,
     "end_time": "2025-07-16T15:53:57.669464",
     "exception": false,
     "start_time": "2025-07-16T15:53:42.217380",
     "status": "completed"
    },
    "tags": []
   },
   "outputs": [],
   "source": [
    "df.to_csv('student_chatgpt_sentiment.csv', index=False)"
   ]
  },
  {
   "cell_type": "markdown",
   "id": "e72f44c5",
   "metadata": {
    "papermill": {
     "duration": 0.00583,
     "end_time": "2025-07-16T15:53:57.681525",
     "exception": false,
     "start_time": "2025-07-16T15:53:57.675695",
     "status": "completed"
    },
    "tags": []
   },
   "source": [
    "<div style=\"background-color: #e6f7ff; padding: 15px; border-radius: 10px;\">\n",
    "  <h3> Insights</h3>\n",
    "  <ul>\n",
    "    <li>Most comments were <strong>positive</strong>, indicating students appreciate ChatGPT’s support.</li>\n",
    "    <li>Negative comments often involve ethical concerns or confusion about using it effectively.</li>\n",
    "    <li>Subreddit sentiment varies based on community focus.</li>\n",
    "  </ul>\n",
    "  <p>\n",
    "    This sentiment analysis helps understand real user experiences and can guide further research in AI-assisted education.\n",
    "  </p>\n",
    "</div>"
   ]
  }
 ],
 "metadata": {
  "kaggle": {
   "accelerator": "none",
   "dataSources": [
    {
     "datasetId": 7873380,
     "sourceId": 12478538,
     "sourceType": "datasetVersion"
    }
   ],
   "dockerImageVersionId": 31089,
   "isGpuEnabled": false,
   "isInternetEnabled": true,
   "language": "python",
   "sourceType": "notebook"
  },
  "kernelspec": {
   "display_name": "Python 3",
   "language": "python",
   "name": "python3"
  },
  "language_info": {
   "codemirror_mode": {
    "name": "ipython",
    "version": 3
   },
   "file_extension": ".py",
   "mimetype": "text/x-python",
   "name": "python",
   "nbconvert_exporter": "python",
   "pygments_lexer": "ipython3",
   "version": "3.11.13"
  },
  "papermill": {
   "default_parameters": {},
   "duration": 750.133196,
   "end_time": "2025-07-16T15:53:58.609748",
   "environment_variables": {},
   "exception": null,
   "input_path": "__notebook__.ipynb",
   "output_path": "__notebook__.ipynb",
   "parameters": {},
   "start_time": "2025-07-16T15:41:28.476552",
   "version": "2.6.0"
  }
 },
 "nbformat": 4,
 "nbformat_minor": 5
}
